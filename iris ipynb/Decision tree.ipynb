{
 "cells": [
  {
   "cell_type": "code",
   "execution_count": 1,
   "metadata": {},
   "outputs": [
    {
     "data": {
      "text/plain": [
       "DecisionTreeClassifier(class_weight=None, criterion='gini', max_depth=2,\n",
       "            max_features=None, max_leaf_nodes=None,\n",
       "            min_impurity_decrease=0.0, min_impurity_split=None,\n",
       "            min_samples_leaf=1, min_samples_split=2,\n",
       "            min_weight_fraction_leaf=0.0, presort=False, random_state=None,\n",
       "            splitter='best')"
      ]
     },
     "execution_count": 1,
     "metadata": {},
     "output_type": "execute_result"
    }
   ],
   "source": [
    "# Common imports\n",
    "import numpy as np\n",
    "import os\n",
    "\n",
    "#to make this notebook's output stable across runs\n",
    "np.random.seed(42)\n",
    "\n",
    "# To plot pretty figures\n",
    "%matplotlib inline\n",
    "import matplotlib\n",
    "import matplotlib.pyplot as plt\n",
    "\n",
    "from sklearn.datasets import load_iris\n",
    "from sklearn.tree import DecisionTreeClassifier\n",
    "\n",
    "iris = load_iris()\n",
    "X = iris.data[:,2:] #petal length and width\n",
    "y = iris.target\n",
    "\n",
    "tre_clf = DecisionTreeClassifier(max_depth = 2)\n",
    "tre_clf.fit(X,y)"
   ]
  },
  {
   "cell_type": "code",
   "execution_count": 2,
   "metadata": {},
   "outputs": [
    {
     "data": {
      "text/plain": [
       "'digraph Tree {\\nnode [shape=box, style=\"filled, rounded\", color=\"black\", fontname=helvetica] ;\\nedge [fontname=helvetica] ;\\n0 [label=\"petal length (cm) <= 2.45\\\\ngini = 0.667\\\\nsamples = 150\\\\nvalue = [50, 50, 50]\\\\nclass = setosa\", fillcolor=\"#e5813900\"] ;\\n1 [label=\"gini = 0.0\\\\nsamples = 50\\\\nvalue = [50, 0, 0]\\\\nclass = setosa\", fillcolor=\"#e58139ff\"] ;\\n0 -> 1 [labeldistance=2.5, labelangle=45, headlabel=\"True\"] ;\\n2 [label=\"petal width (cm) <= 1.75\\\\ngini = 0.5\\\\nsamples = 100\\\\nvalue = [0, 50, 50]\\\\nclass = versicolor\", fillcolor=\"#39e58100\"] ;\\n0 -> 2 [labeldistance=2.5, labelangle=-45, headlabel=\"False\"] ;\\n3 [label=\"gini = 0.168\\\\nsamples = 54\\\\nvalue = [0, 49, 5]\\\\nclass = versicolor\", fillcolor=\"#39e581e5\"] ;\\n2 -> 3 ;\\n4 [label=\"gini = 0.043\\\\nsamples = 46\\\\nvalue = [0, 1, 45]\\\\nclass = virginica\", fillcolor=\"#8139e5f9\"] ;\\n2 -> 4 ;\\n}'"
      ]
     },
     "execution_count": 2,
     "metadata": {},
     "output_type": "execute_result"
    }
   ],
   "source": [
    "from sklearn.tree import export_graphviz\n",
    "from sklearn import tree\n",
    "clf = tree.DecisionTreeClassifier()\n",
    "iris = load_iris()\n",
    "clf = clf.fit(iris.data, iris.target)\n",
    "tree.export_graphviz(clf,\n",
    "     out_file='tree.dot')                \n",
    "\n",
    "\n",
    "export_graphviz(\n",
    " tre_clf,\n",
    " \n",
    " feature_names=iris.feature_names[2:],\n",
    " class_names=iris.target_names,\n",
    " rounded=True,\n",
    " filled=True\n",
    " )\n"
   ]
  },
  {
   "cell_type": "code",
   "execution_count": 3,
   "metadata": {},
   "outputs": [
    {
     "data": {
      "image/png": "[encoded data removed]",
      "text/plain": [
       "<Figure size 576x288 with 1 Axes>"
      ]
     },
     "metadata": {},
     "output_type": "display_data"
    }
   ],
   "source": [
    "from matplotlib.colors import ListedColormap\n",
    "\n",
    "def plot_decision_boundary(clf, X, y, axes=[0, 7.5, 0, 3], iris=True, legend=False, plot_training=True):\n",
    "\n",
    " x1s = np.linspace(axes[0], axes[1], 100)\n",
    " plot_training=True\n",
    " x2s = np.linspace(axes[2], axes[3], 100)\n",
    " x1, x2 = np.meshgrid(x1s, x2s)\n",
    " X_new = np.c_[x1.ravel(), x2.ravel()]\n",
    " y_pred = clf.predict(X_new).reshape(x1.shape)\n",
    "\n",
    " \n",
    " \n",
    "if not iris:\n",
    "\n",
    " \n",
    " \n",
    "\n",
    " plt.plot(X[:, 0][y==0], X[:, 1][y==0],  label=\"Setosa\")\n",
    " plt.plot(X[:, 0][y==1], X[:, 1][y==1],  label=\"Versicolor\")\n",
    " plt.plot(X[:, 0][y==2], X[:, 1][y==2],  label=\"Virginica\")\n",
    " plt.axis(axes)\n",
    " if iris:\n",
    "  plt.xlabel(\"Petal length\", fontsize=14)\n",
    "  plt.ylabel(\"Petal width\", fontsize=14)\n",
    "\n",
    " else:\n",
    "  plt.xlabel(r\"$x_1$\", fontsize=18)\n",
    "  plt.ylabel(r\"$x_2$\", fontsize=18, rotation=0)\n",
    " if legend:\n",
    "  plt.legend(loc=\"lower right\", fontsize=14)\n",
    "\n",
    "plt.figure(figsize=(8, 4))\n",
    "plot_decision_boundary(tre_clf, X, y)\n",
    "plt.plot([2.45, 2.45], [0, 3], \"k-\", linewidth=2)\n",
    "plt.plot([2.45, 7.5], [1.75, 1.75], \"k-\", linewidth=2)\n",
    "plt.plot([4.95, 4.95], [0, 1.75], \"k:\", linewidth=2)\n",
    "plt.plot([4.85, 4.85], [1.75, 3], \"k:\", linewidth=2)\n",
    "plt.text(1.40, 1.0, \"Depth=0\", fontsize=15)\n",
    "plt.text(3.2, 1.80, \"Depth=1\", fontsize=13)\n",
    "plt.text(4.05, 0.5, \"(Depth=2)\", fontsize=11)\n",
    "\n",
    "plt.show()"
   ]
  },
  {
   "cell_type": "code",
   "execution_count": null,
   "metadata": {},
   "outputs": [],
   "source": []
  }
 ],
 "metadata": {
  "kernelspec": {
   "display_name": "Python 3",
   "language": "python",
   "name": "python3"
  },
  "language_info": {
   "codemirror_mode": {
    "name": "ipython",
    "version": 3
   },
   "file_extension": ".py",
   "mimetype": "text/x-python",
   "name": "python",
   "nbconvert_exporter": "python",
   "pygments_lexer": "ipython3",
   "version": "3.6.5"
  }
 },
 "nbformat": 4,
 "nbformat_minor": 2
}
